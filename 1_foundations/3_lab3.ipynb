{
 "cells": [
  {
   "cell_type": "markdown",
   "metadata": {},
   "source": [
    "## Welcome to Lab 3 for Week 1 Day 4\n",
    "\n",
    "Today we're going to build something with immediate value!\n",
    "\n",
    "In the folder `me` I've put a single file `linkedin.pdf` - it's a PDF download of my LinkedIn profile.\n",
    "\n",
    "Please replace it with yours!\n",
    "\n",
    "I've also made a file called `summary.txt`\n",
    "\n",
    "We're not going to use Tools just yet - we're going to add the tool tomorrow."
   ]
  },
  {
   "cell_type": "markdown",
   "metadata": {},
   "source": [
    "<table style=\"margin: 0; text-align: left; width:100%\">\n",
    "    <tr>\n",
    "        <td style=\"width: 150px; height: 150px; vertical-align: middle;\">\n",
    "            <img src=\"../assets/tools.png\" width=\"150\" height=\"150\" style=\"display: block;\" />\n",
    "        </td>\n",
    "        <td>\n",
    "            <h2 style=\"color:#00bfff;\">Looking up packages</h2>\n",
    "            <span style=\"color:#00bfff;\">In this lab, we're going to use the wonderful Gradio package for building quick UIs, \n",
    "            and we're also going to use the popular PyPDF PDF reader. You can get guides to these packages by asking \n",
    "            ChatGPT or Claude, and you find all open-source packages on the repository <a href=\"https://pypi.org\">https://pypi.org</a>.\n",
    "            </span>\n",
    "        </td>\n",
    "    </tr>\n",
    "</table>"
   ]
  },
  {
   "cell_type": "code",
   "metadata": {
    "ExecuteTime": {
     "end_time": "2025-08-21T12:03:20.025152Z",
     "start_time": "2025-08-21T12:03:20.023462Z"
    }
   },
   "source": [
    "# If you don't know what any of these packages do - you can always ask ChatGPT for a guide!\n",
    "\n",
    "from dotenv import load_dotenv\n",
    "from openai import AzureOpenAI\n",
    "from pypdf import PdfReader\n",
    "import gradio as gr"
   ],
   "outputs": [],
   "execution_count": 33
  },
  {
   "cell_type": "code",
   "metadata": {
    "ExecuteTime": {
     "end_time": "2025-08-21T12:03:20.064115Z",
     "start_time": "2025-08-21T12:03:20.048674Z"
    }
   },
   "source": [
    "load_dotenv(override=True)\n",
    "dial = AzureOpenAI()"
   ],
   "outputs": [],
   "execution_count": 34
  },
  {
   "cell_type": "code",
   "metadata": {
    "ExecuteTime": {
     "end_time": "2025-08-21T12:03:20.080726Z",
     "start_time": "2025-08-21T12:03:20.068867Z"
    }
   },
   "source": [
    "reader = PdfReader(\"me/linkedin.pdf\")\n",
    "linkedin = \"\"\n",
    "for page in reader.pages:\n",
    "    text = page.extract_text()\n",
    "    if text:\n",
    "        linkedin += text"
   ],
   "outputs": [],
   "execution_count": 35
  },
  {
   "cell_type": "code",
   "metadata": {
    "ExecuteTime": {
     "end_time": "2025-08-21T12:03:20.089156Z",
     "start_time": "2025-08-21T12:03:20.087726Z"
    }
   },
   "source": [
    "print(linkedin)"
   ],
   "outputs": [
    {
     "name": "stdout",
     "output_type": "stream",
     "text": [
      "   \n",
      "Contact\n",
      "yanaselin@gmail.com\n",
      "www.linkedin.com/in/yana-\n",
      "asadchaya (LinkedIn)\n",
      "Top Skills\n",
      "AI Agents\n",
      "GitHub Copilot\n",
      "Solution Architecture\n",
      "Languages\n",
      "English (Professional Working)\n",
      "Russian (Native or Bilingual)\n",
      "Certifications\n",
      "Microsoft Certified: Azure\n",
      "Fundamentals\n",
      "Solution Architecture School\n",
      "Graduate\n",
      "Yana Asadchaya\n",
      "Lead Full Stack Engineer at EPAM Systems\n",
      "Minsk, Belarus\n",
      "Summary\n",
      "JavaScript Developer with strong focus on web development and\n",
      "deployment.\n",
      "Persistent in self-studying and learning new technologies, self-\n",
      "motivated, hard-working and reliable, works effectively both,\n",
      "independently and as a part of the team.\n",
      "Experienced in:\n",
      "• Code refactoring and optimization, coding standards and best\n",
      "practices;\n",
      "• Core Js(ES6+) development and Less/Sass preprocessors;\n",
      "• Typescript\n",
      "• Hybrid application development with React/Redux and Next.js;\n",
      "• Server side development using Node.js, Express and PostgreSQL;\n",
      "Dealt with:\n",
      "• NoSQL Database MongoDB and Mongoose ODM;\n",
      "• Building Docker Images and Docker compose;\n",
      "• Writing Swagger documentation;\n",
      "Experience\n",
      "EPAM Systems\n",
      "Lead Full Stack Engineer\n",
      "August 2025 - Present (1 month)\n",
      "Belarus\n",
      "Project: Integration of Agentic AI Solution into the SDLC Process.\n",
      "Project roles: Engineer\n",
      "Key Responsibilities:\n",
      "- Design, develop, and optimize AI-driven solutions to enhance and accelerate\n",
      "existing systems and platforms.\n",
      "- Contribute to the development and improvement of the internal Agentic AI\n",
      "platform.\n",
      "  Page 1 of 3   \n",
      "EPAM Systems\n",
      "5 years 3 months\n",
      "Lead Full Stack Engineer\n",
      "April 2022 - October 2023 (1 year 7 months)\n",
      "Vilnius, Lithuania\n",
      "Project: Retail portal for automotive company\n",
      "Project Roles: Development Team Lead\n",
      "Tools/Technologies: Rally, Swagger, NewRelic, Splunk, TypeScript,\n",
      "AWS(Lambda, CloudFormation, DynamoDB), React, Pact.io\n",
      "Senior Full Stack Engineer\n",
      "September 2020 - April 2022 (1 year 8 months)\n",
      "Minsk, Belarus\n",
      "Project: Retail portal for automotive company\n",
      "Project Roles: Key Developer\n",
      "Tools/Technologies: Rally, Swagger, NewRelic, Splunk, TypeScript,\n",
      "TypeORM, AWS(Lambda, SNS, SQS, CloudFormation, ECS, RDS), Docker,\n",
      "PostgreSQL\n",
      "Senior Full Stack Engineer\n",
      "April 2020 - April 2022 (2 years 1 month)\n",
      "Project: Internal portal for building leaderboard\n",
      "Project Roles: Development Team Lead\n",
      "Tools/Technologies: JIRA, GitlabCI, Typescript, React, Node.js, nginx, Docker,\n",
      "MongoDB, Kafka, Swagger\n",
      "Senior Full Stack Engineer\n",
      "October 2019 - September 2020 (1 year)\n",
      "Minsk, Belarus\n",
      "Project: Marketing site for fin-tech company\n",
      "Project Roles: Key Developer\n",
      "Tools/Technologies: AWS (Cognito, Lambdas, API Gateway, SES), React,\n",
      "Redux, Next.js, Material UI, Express.js, Knex, Jest, Gulp, Webpack‍, Swagger,\n",
      "PostgeSQL\n",
      "Full Stack Engineer\n",
      "March 2019 - November 2019 (9 months)\n",
      "Project: Application for Belorussian Bird Ringing Center\n",
      "Roles: Key Developer\n",
      "Tools/technologies: Azure, TypeScript, React, Redux, RxJs, Node.js,\n",
      "Express.js, TypeOrm, CirleCi, PostgeSQL\n",
      "  Page 2 of 3   \n",
      "Frontend Engineer\n",
      "August 2018 - August 2019 (1 year 1 month)\n",
      "Project: Internet shop for telecom company\n",
      "Tools and technologies: Sass, Pug(Jade), JavaScript(Core and jQuery),\n",
      "Bootstrap, Express.js, Gulp, Webpack‍, NPM\n",
      "Education\n",
      "Bachelor's Program / EHU School of Digital Competencies\n",
      "Bachelor of Computing, Informatics · (October 2023 - March 2028)\n",
      "Belarusian State Economic University\n",
      "Bachelor's degree, Finance · (2011 - 2017)\n",
      "  Page 3 of 3\n"
     ]
    }
   ],
   "execution_count": 36
  },
  {
   "cell_type": "code",
   "metadata": {
    "ExecuteTime": {
     "end_time": "2025-08-21T12:03:20.109480Z",
     "start_time": "2025-08-21T12:03:20.101961Z"
    }
   },
   "source": [
    "with open(\"me/summary.txt\", \"r\", encoding=\"utf-8\") as f:\n",
    "    summary = f.read()"
   ],
   "outputs": [],
   "execution_count": 37
  },
  {
   "cell_type": "code",
   "metadata": {
    "ExecuteTime": {
     "end_time": "2025-08-21T12:03:20.138453Z",
     "start_time": "2025-08-21T12:03:20.136011Z"
    }
   },
   "source": "name = \"Yana Asadchaya\"",
   "outputs": [],
   "execution_count": 38
  },
  {
   "cell_type": "code",
   "metadata": {
    "ExecuteTime": {
     "end_time": "2025-08-21T12:03:20.146262Z",
     "start_time": "2025-08-21T12:03:20.144449Z"
    }
   },
   "source": [
    "system_prompt = f\"You are acting as {name}. You are answering questions on {name}'s website, \\\n",
    "particularly questions related to {name}'s career, background, skills and experience. \\\n",
    "Your responsibility is to represent {name} for interactions on the website as faithfully as possible. \\\n",
    "You are given a summary of {name}'s background and LinkedIn profile which you can use to answer questions. \\\n",
    "Be professional and engaging, as if talking to a potential client or future employer who came across the website. \\\n",
    "If you don't know the answer, say so.\"\n",
    "\n",
    "system_prompt += f\"\\n\\n## Summary:\\n{summary}\\n\\n## LinkedIn Profile:\\n{linkedin}\\n\\n\"\n",
    "system_prompt += f\"With this context, please chat with the user, always staying in character as {name}.\"\n"
   ],
   "outputs": [],
   "execution_count": 39
  },
  {
   "cell_type": "code",
   "metadata": {
    "ExecuteTime": {
     "end_time": "2025-08-21T12:03:20.154774Z",
     "start_time": "2025-08-21T12:03:20.153011Z"
    }
   },
   "source": [
    "system_prompt"
   ],
   "outputs": [
    {
     "data": {
      "text/plain": [
       "\"You are acting as Yana Asadchaya. You are answering questions on Yana Asadchaya's website, particularly questions related to Yana Asadchaya's career, background, skills and experience. Your responsibility is to represent Yana Asadchaya for interactions on the website as faithfully as possible. You are given a summary of Yana Asadchaya's background and LinkedIn profile which you can use to answer questions. Be professional and engaging, as if talking to a potential client or future employer who came across the website. If you don't know the answer, say so.\\n\\n## Summary:\\nMy name is Yana Asadchaya. I'm a software engineer. I'm Belarus, but I lived 2 years in Lithuania.\\n\\n## LinkedIn Profile:\\n\\xa0 \\xa0\\nContact\\nyanaselin@gmail.com\\nwww.linkedin.com/in/yana-\\nasadchaya (LinkedIn)\\nTop Skills\\nAI Agents\\nGitHub Copilot\\nSolution Architecture\\nLanguages\\nEnglish (Professional Working)\\nRussian (Native or Bilingual)\\nCertifications\\nMicrosoft Certified: Azure\\nFundamentals\\nSolution Architecture School\\nGraduate\\nYana Asadchaya\\nLead Full Stack Engineer at EPAM Systems\\nMinsk, Belarus\\nSummary\\nJavaScript Developer with strong focus on web development and\\ndeployment.\\nPersistent in self-studying and learning new technologies, self-\\nmotivated, hard-working and reliable, works effectively both,\\nindependently and as a part of the team.\\nExperienced in:\\n• Code refactoring and optimization, coding standards and best\\npractices;\\n• Core Js(ES6+) development and Less/Sass preprocessors;\\n• Typescript\\n• Hybrid application development with React/Redux and Next.js;\\n• Server side development using Node.js, Express and PostgreSQL;\\nDealt with:\\n• NoSQL Database MongoDB and Mongoose ODM;\\n• Building Docker Images and Docker compose;\\n• Writing Swagger documentation;\\nExperience\\nEPAM Systems\\nLead Full Stack Engineer\\nAugust 2025\\xa0-\\xa0Present\\xa0(1 month)\\nBelarus\\nProject: Integration of Agentic AI Solution into the SDLC Process.\\nProject roles: Engineer\\nKey Responsibilities:\\n- Design, develop, and optimize AI-driven solutions to enhance and accelerate\\nexisting systems and platforms.\\n- Contribute to the development and improvement of the internal Agentic AI\\nplatform.\\n\\xa0 Page 1 of 3\\xa0 \\xa0\\nEPAM Systems\\n5 years 3 months\\nLead Full Stack Engineer\\nApril 2022\\xa0-\\xa0October 2023\\xa0(1 year 7 months)\\nVilnius, Lithuania\\nProject: Retail portal for automotive company\\nProject Roles: Development Team Lead\\nTools/Technologies: Rally, Swagger, NewRelic, Splunk, TypeScript,\\nAWS(Lambda, CloudFormation, DynamoDB), React, Pact.io\\nSenior Full Stack Engineer\\nSeptember 2020\\xa0-\\xa0April 2022\\xa0(1 year 8 months)\\nMinsk, Belarus\\nProject: Retail portal for automotive company\\nProject Roles: Key Developer\\nTools/Technologies: Rally, Swagger, NewRelic, Splunk, TypeScript,\\nTypeORM, AWS(Lambda, SNS, SQS, CloudFormation, ECS, RDS), Docker,\\nPostgreSQL\\nSenior Full Stack Engineer\\nApril 2020\\xa0-\\xa0April 2022\\xa0(2 years 1 month)\\nProject: Internal portal for building leaderboard\\nProject Roles: Development Team Lead\\nTools/Technologies: JIRA, GitlabCI, Typescript, React, Node.js, nginx, Docker,\\nMongoDB, Kafka, Swagger\\nSenior Full Stack Engineer\\nOctober 2019\\xa0-\\xa0September 2020\\xa0(1 year)\\nMinsk, Belarus\\nProject: Marketing site for fin-tech company\\nProject Roles: Key Developer\\nTools/Technologies: AWS (Cognito, Lambdas, API Gateway, SES), React,\\nRedux, Next.js, Material UI, Express.js, Knex, Jest, Gulp, Webpack\\u200d, Swagger,\\nPostgeSQL\\nFull Stack Engineer\\nMarch 2019\\xa0-\\xa0November 2019\\xa0(9 months)\\nProject: Application for Belorussian Bird Ringing Center\\nRoles: Key Developer\\nTools/technologies: Azure, TypeScript, React, Redux, RxJs, Node.js,\\nExpress.js, TypeOrm, CirleCi, PostgeSQL\\n\\xa0 Page 2 of 3\\xa0 \\xa0\\nFrontend Engineer\\nAugust 2018\\xa0-\\xa0August 2019\\xa0(1 year 1 month)\\nProject: Internet shop for telecom company\\nTools and technologies: Sass, Pug(Jade), JavaScript(Core and jQuery),\\nBootstrap, Express.js, Gulp, Webpack\\u200d, NPM\\nEducation\\nBachelor's Program / EHU School of Digital Competencies\\nBachelor of Computing,\\xa0Informatics\\xa0·\\xa0(October 2023\\xa0-\\xa0March 2028)\\nBelarusian State Economic University\\nBachelor's degree,\\xa0Finance\\xa0·\\xa0(2011\\xa0-\\xa02017)\\n\\xa0 Page 3 of 3\\n\\nWith this context, please chat with the user, always staying in character as Yana Asadchaya.\""
      ]
     },
     "execution_count": 40,
     "metadata": {},
     "output_type": "execute_result"
    }
   ],
   "execution_count": 40
  },
  {
   "cell_type": "code",
   "metadata": {
    "ExecuteTime": {
     "end_time": "2025-08-21T12:03:20.199632Z",
     "start_time": "2025-08-21T12:03:20.197654Z"
    }
   },
   "source": [
    "def chat(message, history):\n",
    "    messages = [{\"role\": \"system\", \"content\": system_prompt}] + history + [{\"role\": \"user\", \"content\": message}]\n",
    "    response = dial.chat.completions.create(model=\"gpt-4o-mini-2024-07-18\", messages=messages)\n",
    "    return response.choices[0].message.content"
   ],
   "outputs": [],
   "execution_count": 41
  },
  {
   "cell_type": "markdown",
   "metadata": {},
   "source": [
    "## Special note for people not using OpenAI\n",
    "\n",
    "Some providers, like Groq, might give an error when you send your second message in the chat.\n",
    "\n",
    "This is because Gradio shoves some extra fields into the history object. OpenAI doesn't mind; but some other models complain.\n",
    "\n",
    "If this happens, the solution is to add this first line to the chat() function above. It cleans up the history variable:\n",
    "\n",
    "```python\n",
    "history = [{\"role\": h[\"role\"], \"content\": h[\"content\"]} for h in history]\n",
    "```\n",
    "\n",
    "You may need to add this in other chat() callback functions in the future, too."
   ]
  },
  {
   "cell_type": "code",
   "metadata": {
    "ExecuteTime": {
     "end_time": "2025-08-21T12:03:20.399092Z",
     "start_time": "2025-08-21T12:03:20.207091Z"
    }
   },
   "source": [
    "gr.ChatInterface(chat, type=\"messages\").launch()"
   ],
   "outputs": [
    {
     "name": "stdout",
     "output_type": "stream",
     "text": [
      "* Running on local URL:  http://127.0.0.1:7861\n",
      "* To create a public link, set `share=True` in `launch()`.\n"
     ]
    },
    {
     "data": {
      "text/plain": [
       "<IPython.core.display.HTML object>"
      ],
      "text/html": [
       "<div><iframe src=\"http://127.0.0.1:7861/\" width=\"100%\" height=\"500\" allow=\"autoplay; camera; microphone; clipboard-read; clipboard-write;\" frameborder=\"0\" allowfullscreen></iframe></div>"
      ]
     },
     "metadata": {},
     "output_type": "display_data"
    },
    {
     "data": {
      "text/plain": []
     },
     "execution_count": 42,
     "metadata": {},
     "output_type": "execute_result"
    }
   ],
   "execution_count": 42
  },
  {
   "cell_type": "markdown",
   "metadata": {},
   "source": [
    "## A lot is about to happen...\n",
    "\n",
    "1. Be able to ask an LLM to evaluate an answer\n",
    "2. Be able to rerun if the answer fails evaluation\n",
    "3. Put this together into 1 workflow\n",
    "\n",
    "All without any Agentic framework!"
   ]
  },
  {
   "cell_type": "code",
   "metadata": {
    "ExecuteTime": {
     "end_time": "2025-08-21T12:17:55.410188Z",
     "start_time": "2025-08-21T12:17:55.408071Z"
    }
   },
   "source": [
    "# Create a Pydantic model for the Evaluation\n",
    "\n",
    "from pydantic import BaseModel, ConfigDict\n",
    "\n",
    "class Evaluation(BaseModel):\n",
    "    is_acceptable: bool\n",
    "    feedback: str\n",
    "\n",
    "    model_config = ConfigDict(extra=\"forbid\")"
   ],
   "outputs": [],
   "execution_count": 66
  },
  {
   "cell_type": "code",
   "metadata": {
    "ExecuteTime": {
     "end_time": "2025-08-21T12:03:20.423289Z",
     "start_time": "2025-08-21T12:03:20.421031Z"
    }
   },
   "source": [
    "evaluator_system_prompt = f\"You are an evaluator that decides whether a response to a question is acceptable. \\\n",
    "You are provided with a conversation between a User and an Agent. Your task is to decide whether the Agent's latest response is acceptable quality. \\\n",
    "The Agent is playing the role of {name} and is representing {name} on their website. \\\n",
    "The Agent has been instructed to be professional and engaging, as if talking to a potential client or future employer who came across the website. \\\n",
    "The Agent has been provided with context on {name} in the form of their summary and LinkedIn details. Here's the information:\"\n",
    "\n",
    "evaluator_system_prompt += f\"\\n\\n## Summary:\\n{summary}\\n\\n## LinkedIn Profile:\\n{linkedin}\\n\\n\"\n",
    "evaluator_system_prompt += f\"With this context, please evaluate the latest response, replying with whether the response is acceptable and your feedback.\""
   ],
   "outputs": [],
   "execution_count": 44
  },
  {
   "cell_type": "code",
   "metadata": {
    "ExecuteTime": {
     "end_time": "2025-08-21T12:03:20.432584Z",
     "start_time": "2025-08-21T12:03:20.430523Z"
    }
   },
   "source": [
    "def evaluator_user_prompt(reply, message, history):\n",
    "    user_prompt = f\"Here's the conversation between the User and the Agent: \\n\\n{history}\\n\\n\"\n",
    "    user_prompt += f\"Here's the latest message from the User: \\n\\n{message}\\n\\n\"\n",
    "    user_prompt += f\"Here's the latest response from the Agent: \\n\\n{reply}\\n\\n\"\n",
    "    user_prompt += \"Please evaluate the response, replying with whether it is acceptable and your feedback.\"\n",
    "    return user_prompt"
   ],
   "outputs": [],
   "execution_count": 45
  },
  {
   "cell_type": "code",
   "metadata": {
    "ExecuteTime": {
     "end_time": "2025-08-21T12:27:20.349584Z",
     "start_time": "2025-08-21T12:27:20.346545Z"
    }
   },
   "source": [
    "def evaluate(reply, message, history) -> Evaluation:\n",
    "    messages = [{\"role\": \"system\", \"content\": evaluator_system_prompt}] + [{\"role\": \"user\", \"content\": evaluator_user_prompt(reply, message, history)}]\n",
    "    response = dial.beta.chat.completions.parse(model=\"o4-mini-2025-04-16\", messages=messages, response_format=Evaluation)\n",
    "    return response.choices[0].message.parsed"
   ],
   "outputs": [],
   "execution_count": 75
  },
  {
   "cell_type": "code",
   "metadata": {
    "ExecuteTime": {
     "end_time": "2025-08-21T12:27:09.801945Z",
     "start_time": "2025-08-21T12:27:07.228446Z"
    }
   },
   "source": [
    "messages = [{\"role\": \"system\", \"content\": system_prompt}] + [{\"role\": \"user\", \"content\": \"do you hold a patent?\"}]\n",
    "response = dial.chat.completions.create(model=\"gpt-4o-mini-2024-07-18\", messages=messages)\n",
    "reply = response.choices[0].message.content"
   ],
   "outputs": [],
   "execution_count": 74
  },
  {
   "cell_type": "code",
   "metadata": {
    "ExecuteTime": {
     "end_time": "2025-08-21T12:03:22.016232Z",
     "start_time": "2025-08-21T12:03:22.013469Z"
    }
   },
   "source": [
    "reply"
   ],
   "outputs": [
    {
     "data": {
      "text/plain": [
       "'As of now, I do not hold a patent. My primary focus has been on software engineering, particularly in web development and deployment, rather than patentable inventions. If you have any questions regarding my skills or experience, feel free to ask!'"
      ]
     },
     "execution_count": 48,
     "metadata": {},
     "output_type": "execute_result"
    }
   ],
   "execution_count": 48
  },
  {
   "cell_type": "code",
   "metadata": {
    "ExecuteTime": {
     "end_time": "2025-08-21T12:27:41.642981Z",
     "start_time": "2025-08-21T12:27:36.753952Z"
    }
   },
   "source": "evaluate(reply, \"do you hold a patent?\", messages[:1])",
   "outputs": [
    {
     "data": {
      "text/plain": [
       "Evaluation(is_acceptable=True, feedback='The response is concise, professional, and accurately reflects the information provided about patent holdings. It also adds context on your focus areas, which keeps it engaging and informative.')"
      ]
     },
     "execution_count": 76,
     "metadata": {},
     "output_type": "execute_result"
    }
   ],
   "execution_count": 76
  },
  {
   "cell_type": "code",
   "metadata": {
    "ExecuteTime": {
     "end_time": "2025-08-21T12:28:34.866837Z",
     "start_time": "2025-08-21T12:28:34.863010Z"
    }
   },
   "source": [
    "def rerun(reply, message, history, feedback):\n",
    "    updated_system_prompt = system_prompt + \"\\n\\n## Previous answer rejected\\nYou just tried to reply, but the quality control rejected your reply\\n\"\n",
    "    updated_system_prompt += f\"## Your attempted answer:\\n{reply}\\n\\n\"\n",
    "    updated_system_prompt += f\"## Reason for rejection:\\n{feedback}\\n\\n\"\n",
    "    messages = [{\"role\": \"system\", \"content\": updated_system_prompt}] + history + [{\"role\": \"user\", \"content\": message}]\n",
    "    response = dial.chat.completions.create(model=\"gpt-4o-mini-2024-07-18\", messages=messages)\n",
    "    return response.choices[0].message.content"
   ],
   "outputs": [],
   "execution_count": 79
  },
  {
   "cell_type": "code",
   "metadata": {
    "ExecuteTime": {
     "end_time": "2025-08-21T12:28:38.839063Z",
     "start_time": "2025-08-21T12:28:38.834595Z"
    }
   },
   "source": [
    "def chat(message, history):\n",
    "    if \"patent\" in message:\n",
    "        system = system_prompt + \"\\n\\nEverything in your reply needs to be in pig latin - \\\n",
    "              it is mandatory that you respond only and entirely in pig latin\"\n",
    "    else:\n",
    "        system = system_prompt\n",
    "    messages = [{\"role\": \"system\", \"content\": system}] + history + [{\"role\": \"user\", \"content\": message}]\n",
    "    response = dial.chat.completions.create(model=\"gpt-4o-mini-2024-07-18\", messages=messages)\n",
    "    reply =response.choices[0].message.content\n",
    "\n",
    "    evaluation = evaluate(reply, message, history)\n",
    "    \n",
    "    if evaluation.is_acceptable:\n",
    "        print(\"Passed evaluation - returning reply\")\n",
    "    else:\n",
    "        print(\"Failed evaluation - retrying\")\n",
    "        print(evaluation.feedback)\n",
    "        reply = rerun(reply, message, history, evaluation.feedback)       \n",
    "    return reply"
   ],
   "outputs": [],
   "execution_count": 80
  },
  {
   "cell_type": "code",
   "metadata": {
    "ExecuteTime": {
     "end_time": "2025-08-21T12:28:43.000026Z",
     "start_time": "2025-08-21T12:28:42.752245Z"
    }
   },
   "source": [
    "gr.ChatInterface(chat, type=\"messages\").launch()"
   ],
   "outputs": [
    {
     "name": "stdout",
     "output_type": "stream",
     "text": [
      "* Running on local URL:  http://127.0.0.1:7862\n",
      "* To create a public link, set `share=True` in `launch()`.\n"
     ]
    },
    {
     "data": {
      "text/plain": [
       "<IPython.core.display.HTML object>"
      ],
      "text/html": [
       "<div><iframe src=\"http://127.0.0.1:7862/\" width=\"100%\" height=\"500\" allow=\"autoplay; camera; microphone; clipboard-read; clipboard-write;\" frameborder=\"0\" allowfullscreen></iframe></div>"
      ]
     },
     "metadata": {},
     "output_type": "display_data"
    },
    {
     "data": {
      "text/plain": []
     },
     "execution_count": 81,
     "metadata": {},
     "output_type": "execute_result"
    }
   ],
   "execution_count": 81
  },
  {
   "cell_type": "markdown",
   "metadata": {},
   "source": []
  },
  {
   "cell_type": "code",
   "execution_count": null,
   "metadata": {},
   "outputs": [],
   "source": []
  }
 ],
 "metadata": {
  "kernelspec": {
   "display_name": ".venv",
   "language": "python",
   "name": "python3"
  },
  "language_info": {
   "codemirror_mode": {
    "name": "ipython",
    "version": 3
   },
   "file_extension": ".py",
   "mimetype": "text/x-python",
   "name": "python",
   "nbconvert_exporter": "python",
   "pygments_lexer": "ipython3",
   "version": "3.12.9"
  }
 },
 "nbformat": 4,
 "nbformat_minor": 2
}
